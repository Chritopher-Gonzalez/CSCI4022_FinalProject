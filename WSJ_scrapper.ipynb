{
 "cells": [
  {
   "cell_type": "code",
   "execution_count": 3,
   "id": "4f9b7117-01dd-4c00-8578-15dd78a85bb4",
   "metadata": {},
   "outputs": [],
   "source": [
    "import csv\n",
    "import requests\n",
    "from bs4 import BeautifulSoup"
   ]
  },
  {
   "cell_type": "code",
   "execution_count": 2,
   "id": "673a8c25-c6a3-480c-a0df-ce3c55e2cbe2",
   "metadata": {},
   "outputs": [],
   "source": [
    "def assetScraper(name, ticker):\n",
    "    # Make a request to the page\n",
    "    url = 'https://www.wsj.com/market-data/quotes/' + ticker + '/financials/annual/balance-sheet'\n",
    "    headers = {\"User-Agent\" : \"Mozilla/5.0 (Windows NT 10.0; Win64; x64; rv:99.0) Gecko/20100101 Firefox/99.0\"}\n",
    "    response = requests.get(url=url, headers=headers)\n",
    "\n",
    "    # Parse the HTML content with BeautifulSoup\n",
    "    soup = BeautifulSoup(response.content, 'html.parser')\n",
    "    \n",
    "    # Find the table element\n",
    "    table = soup.find('table', {'class': 'cr_dataTable'})\n",
    "\n",
    "    # Extract the table headers\n",
    "    headers = [th.text.strip() for th in table.find_all('th')]\n",
    "\n",
    "    # Extract the table rows\n",
    "    rows = []\n",
    "    for tr in table.find_all('tr'):\n",
    "        row = [td.text.strip() for td in tr.find_all('td')]\n",
    "        rows.append(row)\n",
    "\n",
    "    # Remove the first row (contains column descriptions)\n",
    "    rows = rows[1:]\n",
    "\n",
    "    # Write the data to a CSV file\n",
    "    with open('assetsheets/' + name + '.csv', 'w', newline='') as csvfile:\n",
    "        writer = csv.writer(csvfile)\n",
    "        writer.writerow(headers)\n",
    "        writer.writerows(rows)\n",
    "    \n",
    "    return True"
   ]
  },
  {
   "cell_type": "code",
   "execution_count": 5,
   "id": "0aecb863-547a-4b40-8d1c-c65da2ee8c49",
   "metadata": {},
   "outputs": [
    {
     "name": "stdout",
     "output_type": "stream",
     "text": [
      "['1', 'Associated Banc-Corp ', 'ASB']\n",
      "['2', 'Atlantic Union Bankshares Corporation ', 'AUB']\n",
      "['3', 'Axos Financial Inc. ', 'AX']\n",
      "['4', 'Banc of California Inc. ', 'BANC']\n",
      "['5', 'Bank of America Corporation ', 'BAC']\n",
      "['6', 'Bank of Hawaii Corporation ', 'BOH']\n",
      "['7', 'BankUnited Inc. ', 'BKU']\n",
      "['8', 'Bar Harbor Bankshares Inc. ', 'BHB']\n",
      "['9', 'Berkshire Hills Bancorp Inc. ', 'BHLB']\n",
      "['10', 'Blue Ridge Bankshares Inc. ', 'BRBS']\n",
      "['11', 'Byline Bancorp Inc. ', 'BY']\n",
      "['12', 'Cadence Bank ', 'CADE']\n",
      "['13', 'Central Pacific Financial Corp ', 'CPF']\n",
      "['14', 'Citigroup Inc. ', 'C']\n",
      "['15', 'Citizens Financial Group Inc. ', 'CFG']\n",
      "['16', 'Comerica Incorporated ', 'CMA']\n",
      "['17', 'Community Bank System Inc. ', 'CBU']\n",
      "['18', 'Cullen Frost Bankers Inc. ', 'CFR']\n",
      "['19', 'Customers Bancorp Inc ', 'CUBI']\n",
      "['20', 'Evans Bancorp Inc. ', 'EVBN']\n",
      "['21', 'F.N.B. Corporation ', 'FNB']\n",
      "['22', 'FB Financial Corporation ', 'FBK']\n",
      "['23', 'First Commonwealth Financial Corporation ', 'FCF']\n",
      "['24', 'First Horizon Corporation ', 'FHN']\n",
      "['25', 'First Republic Bank', 'FRC']\n",
      "['26', 'Glacier Bancorp Inc. ', 'GBCI']\n",
      "['27', 'Guaranty Bancshares Inc. ', 'GNTY']\n",
      "['28', 'Hilltop Holdings Inc.', 'HTH']\n",
      "['29', 'Home BancShares Inc. ', 'HOMB']\n",
      "['30', 'JP Morgan Chase & Co. ', 'JPM']\n",
      "['31', 'KeyCorp ', 'KEY']\n",
      "['32', 'Live Oak Bancshares Inc. ', 'LOB']\n",
      "['33', 'M&T Bank Corporation ', 'MTB']\n",
      "['34', 'Metropolitan Bank Holding Corp. ', 'MCB']\n",
      "['35', 'National Bank Holdings Corporation ', 'NBHC']\n",
      "['36', 'Nicolet Bankshares Inc. ', 'NIC']\n",
      "['37', 'Park National Corporation ', 'PRK']\n",
      "['38', 'PNC Financial Services Group Inc.', 'PNC']\n",
      "['39', 'Prosperity Bancshares Inc. ', 'PB']\n",
      "['40', 'Provident Financial Services Inc ', 'PFS']\n",
      "['41', 'Regions Financial Corporation ', 'RF']\n",
      "['42', 'ServisFirst Bancshares Inc. ', 'SFBS']\n",
      "['43', '\"Silvergate Capital Corporation   (FAILED in March', ' 2023)\"', 'SI']\n",
      "['44', 'Synovus Financial Corp. ', 'SNV']\n",
      "['45', 'Tompkins Financial Corporation ', 'TMP']\n",
      "['46', 'Truist Financial Corporation ', 'TFC']\n",
      "['47', 'U.S. Bancorp ', 'USB']\n",
      "['48', 'Webster Financial Corporation ', 'WBS']\n",
      "['49', 'Wells Fargo & Company ', 'WFC']\n",
      "['50', 'Western Alliance Bancorporation  ', 'WAL']\n",
      "['51', 'York Community Bancorp Inc. ', 'NYCB']\n"
     ]
    }
   ],
   "source": [
    "#list of banks\n",
    "with open('data/Complete-List-of-US-Banks-Stocks-listed-on-NYSE-Mar-26-23.csv', newline='') as csvfile:\n",
    "    csvreader = csv.reader(csvfile, delimiter=',', quotechar='|')\n",
    "    \n",
    "    # This skips the first row of the CSV file.\n",
    "    next(csvreader)\n",
    "    \n",
    "    for row in csvreader:\n",
    "        print(row)\n",
    "#         assetScraper(row[1],row[2])"
   ]
  },
  {
   "cell_type": "code",
   "execution_count": null,
   "id": "45acdaa1-7838-4961-97d1-c490ad179b51",
   "metadata": {},
   "outputs": [],
   "source": []
  }
 ],
 "metadata": {
  "kernelspec": {
   "display_name": "Python 3 (ipykernel)",
   "language": "python",
   "name": "python3"
  },
  "language_info": {
   "codemirror_mode": {
    "name": "ipython",
    "version": 3
   },
   "file_extension": ".py",
   "mimetype": "text/x-python",
   "name": "python",
   "nbconvert_exporter": "python",
   "pygments_lexer": "ipython3",
   "version": "3.10.0"
  }
 },
 "nbformat": 4,
 "nbformat_minor": 5
}
