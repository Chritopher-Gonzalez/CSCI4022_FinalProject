{
 "cells": [
  {
   "cell_type": "code",
   "execution_count": 123,
   "metadata": {},
   "outputs": [],
   "source": [
    "# things we want to capture:\n",
    "# tangible equity/tangible asset -> we need tangible equity and tangible asset \n",
    "# leverage ratio, apparently this is diff than tang asset percent\n",
    "# Also use total debt / total assets == leverage\n",
    "\n",
    "list_files = os.listdir(\"./assetsheets\")\n",
    "num_files = len(list_files)\n",
    "arr = []\n",
    "for file in list_files:\n",
    "    file_path = \"./assetsheets/\" + file\n",
    "    total_str = \"\"\n",
    "    if (os.path.isfile(file_path)):\n",
    "        with open(file_path,encoding='utf-8') as csv_file:\n",
    "            csv_reader = csv.reader(csv_file, delimiter='\\n')\n",
    "            for row in csv_reader:\n",
    "                x = \"\".join(row)\n",
    "                total_str += x\n",
    "    arr.append(total_str)\n",
    "        \n",
    "dict_data = {}\n",
    "for data,bank in zip(arr,list_files):\n",
    "#     print(data,bank)\n",
    "    try:\n",
    "        equity_tang_asset = data.split(\"Total Shareholders\\' Equity / Total Assets\")[1].split(\"Return On Average Total Equity\")[0].replace(\",\",\"\")\n",
    "        split_eq = equity_tang_asset.split(\"%\")\n",
    "        last_eq = split_eq[-2]\n",
    "        total_asset_debt = data.split(\"Total Debt / Total Assets\")[1].split(\"Deferred Tax\")[0].replace(\",\",\"\")\n",
    "        split_debt = total_asset_debt.split('%')\n",
    "        last_tad = split_debt[-2]\n",
    "        dict_data[bank] = [last_eq,last_tad]\n",
    "        \n",
    "            \n",
    "        \n",
    "    except:\n",
    "        # cant find total equity / total assets\n",
    "        pass\n",
    "# print(dict_data)"
   ]
  },
  {
   "cell_type": "code",
   "execution_count": 124,
   "metadata": {},
   "outputs": [
    {
     "data": {
      "text/plain": [
       "<matplotlib.collections.PathCollection at 0x1308aeb30>"
      ]
     },
     "execution_count": 124,
     "metadata": {},
     "output_type": "execute_result"
    },
    {
     "data": {
      "image/png": "[encoded data removed]",
      "text/plain": [
       "<Figure size 432x288 with 1 Axes>"
      ]
     },
     "metadata": {
      "needs_background": "light"
     },
     "output_type": "display_data"
    }
   ],
   "source": [
    "x = []\n",
    "y = []\n",
    "\n",
    "for value in dict_data.values():\n",
    "    x.append(float(value[0]))\n",
    "    y.append(float(value[1]))\n",
    "plt.scatter(x,y)\n",
    "\n",
    "# Below is what we're going to be sorting on gmm.. yikes\n"
   ]
  },
  {
   "cell_type": "code",
   "execution_count": 125,
   "metadata": {},
   "outputs": [
    {
     "name": "stdout",
     "output_type": "stream",
     "text": [
      "Fiscal year is January-December. All values USD Millions.,2022,2021,2020,2019,2018,5-year trend,All values USD Millions.,2022,2021,2020,2019,2018,5-year trendTotal Cash & Due from Banks,556,208,16,2,4,,,,,,,,,,Cash & Due from Banks Growth,166.86%,1169.08%,938.95%,-62.20%,-,,,,,,,,,,,,,,,,,,,Investments - Total,\"10,143\",\"14,766\",\"4,797\",\"1,439\",\"1,389\",,,,,,,,,,Trading Account Securities,-,-,-,-,-,Federal Funds Sold & Securities Purchased,-,-,-,-,-,Federal Funds Sold,-,-,-,-,-,Securities Bought Under Resale Agreement,-,-,-,-,-,Treasury Securities,-,-,-,-,-,Federal Agency Securities,-,\"1,179\",-,-,-,,,,,,,,,,State & Municipal Securities,-,\"2,695\",286,-,-,,,,,,,,,,Mortgage Backed Securities,-,\"4,519\",407,646,98,,,,,,,,,,Other Securities,-,232,246,252,259,,,,,,,,,,Other Investments,\"4,410\",\"6,141\",\"3,858\",542,\"1,032\",,,,,,,,,,Investments Growth,-31.31%,207.85%,233.23%,3.65%,-,,,,,,,,,,,,,,,,,,,Net Loans,408,887,747,665,593,,,,,,,,,,Gross Loans - Net of Unearned Income,-,-,-,-,-,Commercial & Industrial Loans,364,336,79,14,9,,,,,,,,,,Consumer & Installment Loans,-,-,0,0,0,,,,,,,,,,Interbank Loans,-,-,-,-,-,Real Estate Mortgage Loans,48,558,672,654,588,,,,,,,,,,Lease Financing Loans,-,-,-,-,-,Foreign Loans,-,-,-,-,-,Broker & Financial Institution Loans,-,-,-,-,-,Unspecified/Other Loans,(1),0,2,3,2,,,,,,,,,,,,,,,,,,,Unearned Income,-,-,-,-,-,Loan Loss Allowances (Reserves),(3),(7),(7),(6),(7),,,,,,,,,,,,,,,,,,,Investment in Unconsolidated Subs.,-,-,-,-,-,Customer Liability on Acceptances,-,-,-,-,-,Real Estate Other Than Bank Premises,-,-,-,0,0,,,,,,,,,,Loans - 1 Yr Growth Rate,-53.98%,18.82%,12.36%,12.12%,-,,,,,,,,,,,,,,,,,,,Total Deposits FOR CALC PURPOSES,\"6,297\",\"14,291\",\"5,248\",\"1,815\",\"1,783\",,,,,,,,,,Loans (Total) / Total Deposits,0.00%,0.00%,0.00%,0.00%,0.00%,-Loans (Total) / Total Assets,0.00%,0.00%,0.00%,0.00%,0.00%,-Net Property, Plant & Equipment,4,7,4,8,4,,,,,,,,,,Other Assets (Including Intangibles),202,89,14,8,5,,,,,,,,,,Other Assets,202,89,14,8,5,,,,,,,,,,Intangible Assets,-,-,-,-,-,Deferred Charges,-,-,-,-,-,Interest Receivables,43,40,9,6,6,,,,,,,,,,Total Assets,\"11,356\",\"16,009\",\"5,591\",\"2,133\",\"2,006\",,,,,,,,,,Assets - Total Growth,-29.07%,186.36%,162.08%,6.36%,-,,,,,,,,,,,,,,,,,,,Return On Average Assets,-6.85%,-,-,-,-,,,,,,,,,,,,,,,,,,,Total Deposits,\"6,297\",\"14,291\",\"5,248\",\"1,815\",\"1,783\",,,,,,,,,,Demand Deposits,\"3,853\",\"14,221\",\"5,176\",\"1,404\",\"1,572\",,,,,,,,,,Savings/Time Deposits,\"2,444\",70,72,410,107,,,,,,,,,,Foreign Office Deposits,-,-,-,-,-,Unspecified Deposits,-,-,-,-,104,,,,,,,,,,Deposits Growth,-55.94%,172.30%,189.20%,1.78%,-,,,,,,,,,,,,,,,,,,,Total Debt,\"4,316\",21,19,73,21,,,,,,,,,,ST Debt & Current Portion LT Debt,\"4,300\",2,2,3,1,,,,,,,,,,Current Portion of Long Term Debt,-,-,-,1,1,,,,,,,,,,Short Term Debt,\"4,300\",2,2,2,-,,,,,,,,,,Long-Term Debt,16,20,17,71,20,,,,,,,,,,LT Debt excl. Capitalized Leases,16,16,16,67,20,,,,,,,,,,Capitalized Lease Obligations,-,-,-,-,-,Provision for Risks & Charges,-,1,0,0,0,,,,,,,,,,Long Term Debt Growth,-18.94%,12.06%,-75.27%,261.71%,-,,,,,,,,,,,,,,,,,,,Total Assets FOR CALCULATION PURPOSES ONLY,\"11,356\",\"16,009\",\"5,591\",\"2,133\",\"2,006\",,,,,,,,,,Total Debt / Total Assets,38.01%,0.13%,0.34%,3.44%,1.03%,,,,,,,,,,Deferred Tax Liabilities,-,(6),15,0,(3),,,,,,,,,,,,,,,,,,,Deferred Taxes - Credit,-,4,20,5,1,,,,,,,,,,Deferred Taxes - Debit,-,10,4,5,5,,,,,,,,,,Other Liabilities,140,84,9,9,9,,,,,,,,,,Deferred Tax Liability-Untaxed Reserves,-,-,-,-,-,Other Liabilities (excl. Deferred Income),140,84,9,9,9,,,,,,,,,,Deferred Income,-,-,-,-,-,Total Liabilities,\"10,752\",\"14,400\",\"5,296\",\"1,902\",\"1,814\",,,,,,,,,,Total Liabilities Growth,-25.33%,171.90%,178.43%,4.84%,-,,,,,,,,,,,,,,,,,,,Preferred Stock (Carrying Value),0,0,-,-,-,,,,,,,,,,Redeemable Preferred Stock,-,-,-,-,-,Non-Redeemable Preferred Stock,0,0,-,-,-,,,,,,,,,,Preferred Stock issues for ESOP,-,-,-,-,-,ESOP Guarantees - Preferred Stock,-,-,-,-,-,Common Equity (Total),603,\"1,609\",294,231,191,,,,,,,,,,Common Stock Par/Carry Value,0,0,0,0,0,,,,,,,,,,Additional Paid-In Capital/Capital Surplus,\"1,557\",\"1,422\",130,132,126,,,,,,,,,,Retained Earnings,(755),194,118,92,67,,,,,,,,,,,,,,,,,,,ESOP Debt Guarantee,-,-,-,-,-,Cumulative Translation Adjustment/Unrealized For. Exch. Gain,-,-,-,-,-,Unrealized Gain/Loss Marketable Securities,-,(10),29,4,(2),,,,,,,,,,,,,,,,,,,Revaluation Reserves,-,-,-,-,-,Other Appropriated Reserves,(199),3,17,2,(0),,,,,,,,,,,,,,,,,,,Unappropriated Reserves,-,-,-,-,-,Treasury Stock,-,-,-,-,-,Common Equity / Total Assets,0.05%,0.10%,0.05%,0.11%,0.10%,,,,,,,,,,Total Shareholders' Equity,603,\"1,609\",294,231,191,,,,,,,,,,Total Shareholders' Equity / Total Assets,5.31%,10.05%,5.26%,10.83%,9.54%,,,,,,,,,,Return On Average Total Equity,-84.80%,-,-,-,-,,,,,,,,,,,,,,,,,,,Accumulated Minority Interest,-,-,-,-,-,Total Equity,603,\"1,609\",294,231,191,,,,,,,,,,Liabilities & Shareholders' Equity,\"11,356\",\"16,009\",\"5,591\",\"2,133\",\"2,006\",,,,,,,,,,\n"
     ]
    }
   ],
   "source": [
    "df = pd.DataFrame(\n",
    "    {'eta': x,\n",
    "     'tdta': y,\n",
    "    })"
   ]
  },
  {
   "cell_type": "code",
   "execution_count": 126,
   "metadata": {},
   "outputs": [],
   "source": [
    "import matplotlib.pyplot as plt\n",
    "import numpy as np\n",
    "import pandas as pd\n",
    "import scipy.stats as stats\n",
    "import statsmodels.api as sm\n",
    "import os\n",
    "import csv"
   ]
  },
  {
   "cell_type": "code",
   "execution_count": null,
   "metadata": {},
   "outputs": [],
   "source": []
  },
  {
   "cell_type": "code",
   "execution_count": 127,
   "metadata": {},
   "outputs": [],
   "source": [
    "def GMM(dat, k):\n",
    "    \n",
    "    #Comments will reference slides 26-31 from Feb 9\n",
    "    \n",
    "    \"\"\"Define the variables we will use in the Algorithm\"\"\"\n",
    "    #This represents Σ_m (covariance matrix of each component) (slide 26)\n",
    "    covars=np.zeros((k,2,2))\n",
    "    \n",
    "    #This represents μ_m (mean values of each component) (slide 26)\n",
    "    means=np.zeros((k,2))\n",
    "    \n",
    "    #This represents W_m (weights/likelihood of each component) (slide 26 bottom)\n",
    "    p_class=np.zeros(k)\n",
    "    \n",
    "    #This represents P(x_i | cluster = m), or Φ(x_i | μ_m, Σ_m) (slide 27)\n",
    "    #During the Expectation step, we will use this to derive p̂_mi (or p_class_given_data) as shown on slide 27\n",
    "    #p_class_given_data will be the same shape\n",
    "    \n",
    "    # Use p_data_given_class to derive p_mi for expectation step. \n",
    "    p_data_given_class=np.zeros((len(dat),k))\n",
    "    \n",
    "    p_class_given_data=np.zeros((len(dat),k))\n",
    "    \n",
    "\n",
    "    \n",
    "    \"\"\"Initialize means, covs, p_classes\"\"\"\n",
    "    #initializations of starting points (used to set the initial means below)\n",
    "    init_idx=np.random.choice(range(len(dat)), size=k, replace=False)\n",
    "    # we get k indices of random data points. \n",
    "    #Initialize the covariance matrix, the means, and the p_class for each of k components (dims)\n",
    "    for dim in range(k):\n",
    "        #Set the cov matrix of each component to the cov of the entire dataset (slide 26)\n",
    "        # changes rows into columns and columns into rows\n",
    "        # this rets a 2x2 covariance, we set it for each dimension\n",
    "        covars[dim,:,:]=np.cov(np.transpose(dat))\n",
    "        \n",
    "\n",
    "        #Set initial means to initial chosen data points (slide 26)\n",
    "        # we just set to some data points we have.\n",
    "        \n",
    "        # Remember we picked dim number of random indices. Now we're just getting that random number and setting the means to it\n",
    "        # the means[dim,:] means setting latitude and longitude\n",
    "        means[dim,:]=dat.iloc[init_idx[dim]]\n",
    "        \n",
    "        #Give each component equal weighting / likelihood to start (slide 26)\n",
    "        p_class[dim]=1/k\n",
    "    \n",
    "    \"\"\"Now Iterate\"\"\"\n",
    "    #Now we start our for loop, where-in we'll alernate between: (1) Expecation Step and (2) Maximization Step\n",
    "    #Note - 50 steps is fine, no requirement to check for convergence on this HW\n",
    "    for step in range(50):\n",
    "        # we run it 50 times to get to a convergence of our means, covars, etc. for each cluster\n",
    "        \"\"\"Expectation Step (Slide 27)\"\"\"\n",
    "        for i in range(len(dat)):\n",
    "            for dim in range(k):\n",
    "                x = dat.iloc[i,0]\n",
    "                y = dat.iloc[i,1]\n",
    "    \n",
    "                # gives us unnormalized probability of being in each cluster\n",
    "                pmi = stats.multivariate_normal.pdf(x=(x,y), mean=means[dim], cov=covars[dim,:,:], allow_singular=True)\n",
    "                p_data_given_class[i][dim] = pmi*p_class[dim]\n",
    "\n",
    "        # normalize them now\n",
    "        for i in range(len(dat)):\n",
    "            summ = sum(p_data_given_class[i])\n",
    "            for dim in range(k):\n",
    "                p_class_given_data[i][dim] = p_data_given_class[i][dim]/summ\n",
    "\n",
    "        \n",
    "        \"\"\"Maximization Step (Slide 29-30)\"\"\"\n",
    "        \n",
    "        new_weights = p_class=np.zeros(k)\n",
    "        new_means = np.zeros((k,2))\n",
    "        new_covars = np.zeros((k,2,2))\n",
    "        for dim in range(k):\n",
    "            nm = 0\n",
    "            x_mean_sum = 0\n",
    "            y_mean_sum = 0\n",
    "            x_covar = 0\n",
    "            y_covar = 0\n",
    "            covar_new = np.zeros((2,2))\n",
    "            for i in range(len(dat)):\n",
    "                nm += p_class_given_data[i][dim]\n",
    "                x_mean_sum += (p_class_given_data[i][dim]*dat.iloc[i,0])\n",
    "                y_mean_sum += (p_class_given_data[i][dim]*dat.iloc[i,1])\n",
    "                \n",
    "            # change weights\n",
    "            new_weights[dim] = nm/len(dat)\n",
    "            # change means using nm and mean_sum's calc'd above\n",
    "            new_means[dim] = [(x_mean_sum/nm),(y_mean_sum/nm)]\n",
    "            total = np.zeros((2, 2))\n",
    "            for j in range(len(dat)):\n",
    "                total += p_class_given_data[j, dim] * np.outer(list(dat.iloc[j,:]) - means[dim], list(dat.iloc[j,:]) - means[dim])\n",
    "            covars[dim] = total / nm\n",
    "        \n",
    "            \n",
    "        # set all of our new vars\n",
    "        means = new_means\n",
    "        p_class = new_weights\n",
    "            \n",
    "\n",
    "    \"\"\"Once we're done with our for loop, we compute the mean dist (This formula is given in the HW below in Part B)\"\"\"\n",
    "    sum_iter = 0\n",
    "    for i in range(len(dat)):\n",
    "        for m in range(k):\n",
    "            pmi = p_class_given_data[i][m]\n",
    "            # need to weight points that are closer to mean higher>\n",
    "            dist_x = (dat.iloc[i,0]-means[dim][0])**2\n",
    "            dist_y = (dat.iloc[i,1]-means[dim][1])**2\n",
    "#             sum_iter += (comb*(dist_y))\n",
    "#             sum_iter += (comb*(dist_y))\n",
    "    n = len(dat)\n",
    "    mean_dist = (sum_iter/n)**1/2\n",
    "    \n",
    "\n",
    "    #Return all the needed variables\n",
    "    return p_class_given_data, means, covars, p_class, mean_dist\n",
    "\n"
   ]
  },
  {
   "cell_type": "code",
   "execution_count": 130,
   "metadata": {},
   "outputs": [
    {
     "name": "stdout",
     "output_type": "stream",
     "text": [
      "Testing for K: 1\n",
      "Testing for K: 2\n",
      "Testing for K: 3\n",
      "Testing for K: 4\n",
      "Testing for K: 5\n",
      "Testing for K: 6\n",
      "Testing for K: 7\n",
      "Testing for K: 8\n"
     ]
    }
   ],
   "source": [
    "p_class_given_data_lst = []\n",
    "means_lst = []\n",
    "covars_lst = []\n",
    "p_class_lst = []\n",
    "mean_dist_lst = []\n",
    "\n",
    "\n",
    "for i in range(1,9):\n",
    "    print(\"Testing for K: \" + str(i))\n",
    "    p_class_given_data, means, covars, p_class, mean_dist = GMM(df, i)\n",
    "    p_class_given_data_lst.append(p_class_given_data)\n",
    "    means_lst.append(means)\n",
    "    covars_lst.append(covars)\n",
    "    p_class_lst.append(p_class)\n",
    "    mean_dist_lst.append(mean_dist)\n"
   ]
  },
  {
   "cell_type": "code",
   "execution_count": 131,
   "metadata": {},
   "outputs": [
    {
     "data": {
      "text/plain": [
       "Text(0, 0.5, 'mean distance')"
      ]
     },
     "execution_count": 131,
     "metadata": {},
     "output_type": "execute_result"
    },
    {
     "data": {
      "image/png": "[encoded data removed]",
      "text/plain": [
       "<Figure size 432x288 with 1 Axes>"
      ]
     },
     "metadata": {
      "needs_background": "light"
     },
     "output_type": "display_data"
    }
   ],
   "source": [
    "plt.plot(range(1,9),mean_dist_lst)\n",
    "plt.xlabel(\"k\")\n",
    "plt.ylabel(\"mean distance\")"
   ]
  },
  {
   "cell_type": "code",
   "execution_count": 140,
   "metadata": {},
   "outputs": [],
   "source": [
    "dict_pts = {}\n",
    "for idx,data in enumerate(p_class_given_data_lst[-3]):\n",
    "    lst = list(data)\n",
    "    max_value = max(lst)\n",
    "    index = lst.index(max_value)\n",
    "    our_point = df.iloc[idx,:]\n",
    "    our_point_lst = list(our_point)\n",
    "    if index not in dict_pts:\n",
    "        dict_pts[index] = [our_point_lst]\n",
    "    else:\n",
    "        dict_pts[index].append(our_point_lst)"
   ]
  },
  {
   "cell_type": "code",
   "execution_count": 141,
   "metadata": {},
   "outputs": [
    {
     "data": {
      "text/plain": [
       "<matplotlib.collections.PathCollection at 0x131803f10>"
      ]
     },
     "execution_count": 141,
     "metadata": {},
     "output_type": "execute_result"
    },
    {
     "data": {
      "image/png": "[encoded data removed]",
      "text/plain": [
       "<Figure size 432x288 with 1 Axes>"
      ]
     },
     "metadata": {
      "needs_background": "light"
     },
     "output_type": "display_data"
    }
   ],
   "source": [
    "\n",
    "for key, value in dict_pts.items():\n",
    "    x = [i[0] for i in dict_pts[key]]\n",
    "    y = [i[1] for i in dict_pts[key]]\n",
    "    plt.scatter(x,y)\n",
    "plt.scatter([i[0] for i in means_lst[-3]], [i[1] for i in means_lst[-3]], color=\"black\")"
   ]
  },
  {
   "cell_type": "code",
   "execution_count": null,
   "metadata": {},
   "outputs": [],
   "source": []
  },
  {
   "cell_type": "code",
   "execution_count": null,
   "metadata": {},
   "outputs": [],
   "source": []
  }
 ],
 "metadata": {
  "kernelspec": {
   "display_name": "Python 3 (ipykernel)",
   "language": "python",
   "name": "python3"
  },
  "language_info": {
   "codemirror_mode": {
    "name": "ipython",
    "version": 3
   },
   "file_extension": ".py",
   "mimetype": "text/x-python",
   "name": "python",
   "nbconvert_exporter": "python",
   "pygments_lexer": "ipython3",
   "version": "3.10.0"
  }
 },
 "nbformat": 4,
 "nbformat_minor": 2
}
