{
 "cells": [
  {
   "cell_type": "code",
   "execution_count": 236,
   "metadata": {},
   "outputs": [],
   "source": [
    "# things we want to capture:\n",
    "# tangible equity/tangible asset -> we need tangible equity and tangible asset \n",
    "# - supposed to show the banks we're interested in don't have a very high EQUITY PERCENT relative to their ASSETS\n",
    "# leverage ratio, apparently this is diff than tang asset percent\n",
    "# Also use total debt / total assets == leverage\n",
    "# leverage ratio = tier 1 capital / total consolidated assets\n",
    "# tier 1 capital = shareholders equity + retained earnings\n",
    "\n",
    "# gonna use long term debt / short term debt ratio\n",
    "\n",
    "\n",
    "list_files = os.listdir(\"./assetsheets\")\n",
    "num_files = len(list_files)\n",
    "arr = []\n",
    "for file in list_files:\n",
    "    file_path = \"./assetsheets/\" + file\n",
    "    total_str = \"\"\n",
    "    if (os.path.isfile(file_path)):\n",
    "        with open(file_path,encoding='utf-8') as csv_file:\n",
    "            csv_reader = csv.reader(csv_file, delimiter='\\n')\n",
    "            for row in csv_reader:\n",
    "                x = \"\".join(row)\n",
    "                total_str += x\n",
    "    arr.append(total_str)\n",
    "\n",
    "    \n",
    "svb_coords = []\n",
    "sigbank_coords =[]\n",
    "dict_data = {}\n",
    "for data,bank in zip(arr,list_files):\n",
    "#     print(data,bank)\n",
    "    try:\n",
    "#         print(bank)\n",
    "        equity_tang_asset = data.split(\"Total Shareholders\\' Equity / Total Assets\")[1].split(\"Return On Average Total Equity\")[0].replace(\",\",\"\")\n",
    "        split_eq = equity_tang_asset.split(\"%\")\n",
    "        last_eq = split_eq[0]\n",
    "        total_asset_debt = data.split(\"X[:,1]\")[1].split(\"Return On Average\")[0].replace(\",\",\"\")\n",
    "        split_debt = total_asset_debt.split('%')\n",
    "        last_tad = split_debt[0]\n",
    "#         print(last_eq,last_tad)\n",
    "        dict_data[bank] = [last_eq,last_tad]\n",
    "#         print(last_eq,last_tad)\n",
    "        if bank == '\"SVB Financial Group**(Failed - Shutdown on Mar 10 2023)**\".csv':\n",
    "            svb_coords = [float(last_eq),float(last_tad)]\n",
    "        elif bank == '\"Signature Bank **(Failed - Shutdown on Mar 12 2023)**\".csv':\n",
    "            sigbank_coords = [float(last_eq),float(last_tad)]\n",
    "        \n",
    "            \n",
    "        \n",
    "    except:\n",
    "        # cant find total equity / total assets\n",
    "        pass\n",
    "# print(dict_data)"
   ]
  },
  {
   "cell_type": "code",
   "execution_count": 237,
   "metadata": {},
   "outputs": [
    {
     "data": {
      "text/plain": [
       "<matplotlib.collections.PathCollection at 0x1378c3e80>"
      ]
     },
     "execution_count": 237,
     "metadata": {},
     "output_type": "execute_result"
    },
    {
     "data": {
      "image/png": "[encoded data removed]",
      "text/plain": [
       "<Figure size 432x288 with 1 Axes>"
      ]
     },
     "metadata": {
      "needs_background": "light"
     },
     "output_type": "display_data"
    }
   ],
   "source": [
    "x = []\n",
    "y = []\n",
    "\n",
    "for value in dict_data.values():\n",
    "    x.append(float(value[0]))\n",
    "    y.append(float(value[1]))\n",
    "plt.scatter(x,y)\n",
    "\n",
    "# Below is what we're going to be sorting on gmm.. yikes\n"
   ]
  },
  {
   "cell_type": "code",
   "execution_count": 238,
   "metadata": {},
   "outputs": [],
   "source": [
    "df = pd.DataFrame(\n",
    "    {'eta': x,\n",
    "     'tdta': y,\n",
    "    })"
   ]
  },
  {
   "cell_type": "code",
   "execution_count": 239,
   "metadata": {},
   "outputs": [],
   "source": [
    "import matplotlib.pyplot as plt\n",
    "import numpy as np\n",
    "import pandas as pd\n",
    "import scipy.stats as stats\n",
    "import statsmodels.api as sm\n",
    "import os\n",
    "import csv"
   ]
  },
  {
   "cell_type": "code",
   "execution_count": null,
   "metadata": {},
   "outputs": [],
   "source": []
  },
  {
   "cell_type": "code",
   "execution_count": 240,
   "metadata": {},
   "outputs": [],
   "source": [
    "def GMM(dat, k):\n",
    "    \n",
    "    #Comments will reference slides 26-31 from Feb 9\n",
    "    \n",
    "    \"\"\"Define the variables we will use in the Algorithm\"\"\"\n",
    "    #This represents Σ_m (covariance matrix of each component) (slide 26)\n",
    "    covars=np.zeros((k,2,2))\n",
    "    \n",
    "    #This represents μ_m (mean values of each component) (slide 26)\n",
    "    means=np.zeros((k,2))\n",
    "    \n",
    "    #This represents W_m (weights/likelihood of each component) (slide 26 bottom)\n",
    "    p_class=np.zeros(k)\n",
    "    \n",
    "    #This represents P(x_i | cluster = m), or Φ(x_i | μ_m, Σ_m) (slide 27)\n",
    "    #During the Expectation step, we will use this to derive p̂_mi (or p_class_given_data) as shown on slide 27\n",
    "    #p_class_given_data will be the same shape\n",
    "    \n",
    "    # Use p_data_given_class to derive p_mi for expectation step. \n",
    "    p_data_given_class=np.zeros((len(dat),k))\n",
    "    \n",
    "    p_class_given_data=np.zeros((len(dat),k))\n",
    "    \n",
    "\n",
    "    \n",
    "    \"\"\"Initialize means, covs, p_classes\"\"\"\n",
    "    #initializations of starting points (used to set the initial means below)\n",
    "    init_idx=np.random.choice(range(len(dat)), size=k, replace=False)\n",
    "    # we get k indices of random data points. \n",
    "    #Initialize the covariance matrix, the means, and the p_class for each of k components (dims)\n",
    "    for dim in range(k):\n",
    "        #Set the cov matrix of each component to the cov of the entire dataset (slide 26)\n",
    "        # changes rows into columns and columns into rows\n",
    "        # this rets a 2x2 covariance, we set it for each dimension\n",
    "        covars[dim,:,:]=np.cov(np.transpose(dat))\n",
    "        \n",
    "\n",
    "        #Set initial means to initial chosen data points (slide 26)\n",
    "        # we just set to some data points we have.\n",
    "        \n",
    "        # Remember we picked dim number of random indices. Now we're just getting that random number and setting the means to it\n",
    "        # the means[dim,:] means setting latitude and longitude\n",
    "        means[dim,:]=dat.iloc[init_idx[dim]]\n",
    "        \n",
    "        #Give each component equal weighting / likelihood to start (slide 26)\n",
    "        p_class[dim]=1/k\n",
    "    \n",
    "    \"\"\"Now Iterate\"\"\"\n",
    "    #Now we start our for loop, where-in we'll alernate between: (1) Expecation Step and (2) Maximization Step\n",
    "    #Note - 50 steps is fine, no requirement to check for convergence on this HW\n",
    "    for step in range(50):\n",
    "        # we run it 50 times to get to a convergence of our means, covars, etc. for each cluster\n",
    "        \"\"\"Expectation Step (Slide 27)\"\"\"\n",
    "        for i in range(len(dat)):\n",
    "            for dim in range(k):\n",
    "                x = dat.iloc[i,0]\n",
    "                y = dat.iloc[i,1]\n",
    "    \n",
    "                # gives us unnormalized probability of being in each cluster\n",
    "                pmi = stats.multivariate_normal.pdf(x=(x,y), mean=means[dim], cov=covars[dim,:,:], allow_singular=True)\n",
    "                p_data_given_class[i][dim] = pmi*p_class[dim]\n",
    "\n",
    "        # normalize them now\n",
    "        for i in range(len(dat)):\n",
    "            summ = sum(p_data_given_class[i])\n",
    "            for dim in range(k):\n",
    "                p_class_given_data[i][dim] = p_data_given_class[i][dim]/summ\n",
    "\n",
    "        \n",
    "        \"\"\"Maximization Step (Slide 29-30)\"\"\"\n",
    "        \n",
    "        new_weights = p_class=np.zeros(k)\n",
    "        new_means = np.zeros((k,2))\n",
    "        new_covars = np.zeros((k,2,2))\n",
    "        for dim in range(k):\n",
    "            nm = 0\n",
    "            x_mean_sum = 0\n",
    "            y_mean_sum = 0\n",
    "            x_covar = 0\n",
    "            y_covar = 0\n",
    "            covar_new = np.zeros((2,2))\n",
    "            for i in range(len(dat)):\n",
    "                nm += p_class_given_data[i][dim]\n",
    "                x_mean_sum += (p_class_given_data[i][dim]*dat.iloc[i,0])\n",
    "                y_mean_sum += (p_class_given_data[i][dim]*dat.iloc[i,1])\n",
    "                \n",
    "            # change weights\n",
    "            new_weights[dim] = nm/len(dat)\n",
    "            # change means using nm and mean_sum's calc'd above\n",
    "            new_means[dim] = [(x_mean_sum/nm),(y_mean_sum/nm)]\n",
    "            total = np.zeros((2, 2))\n",
    "            for j in range(len(dat)):\n",
    "                total += p_class_given_data[j, dim] * np.outer(list(dat.iloc[j,:]) - means[dim], list(dat.iloc[j,:]) - means[dim])\n",
    "#             print(nm)\n",
    "            covars[dim] = total / nm\n",
    "        \n",
    "            \n",
    "        # set all of our new vars\n",
    "        means = new_means\n",
    "        p_class = new_weights\n",
    "            \n",
    "\n",
    "#     \"\"\"Once we're done with our for loop, we compute the mean dist (This formula is given in the HW below in Part B)\"\"\"\n",
    "#     sum_iter = 0\n",
    "#     for i in range(len(dat)):\n",
    "#         for m in range(k):\n",
    "#             pmi = p_class_given_data[i][m]\n",
    "#             # need to weight points that are closer to mean higher>\n",
    "#             dist_x = (dat.iloc[i,0]-means[dim][0])**2\n",
    "#             dist_y = (dat.iloc[i,1]-means[dim][1])**2\n",
    "# #             sum_iter += (comb*(dist_y))\n",
    "# #             sum_iter += (comb*(dist_y))\n",
    "#     n = len(dat)\n",
    "#     mean_dist = (sum_iter/n)**1/2\n",
    "    \n",
    "\n",
    "    #Return all the needed variables\n",
    "    return p_class_given_data, means, covars, p_class\n",
    "\n"
   ]
  },
  {
   "cell_type": "code",
   "execution_count": 241,
   "metadata": {},
   "outputs": [
    {
     "name": "stdout",
     "output_type": "stream",
     "text": [
      "Testing for K: 1\n",
      "[[9.78439597 7.33848993]]\n",
      "Testing for K: 2\n",
      "[[ 9.42157904  4.927842  ]\n",
      " [13.30017007 30.69818668]]\n",
      "Testing for K: 3\n",
      "[[10.15141106 30.63641914]\n",
      " [14.54811374  0.1535884 ]\n",
      " [ 9.39077305  3.94806149]]\n",
      "Testing for K: 4\n",
      "[[10.21221306 41.75833794]\n",
      " [10.34019578  9.97676284]\n",
      " [14.08319232 -0.41635939]\n",
      " [ 8.78006118  1.40426166]]\n",
      "Testing for K: 5\n",
      "[[ 1.01610015e+01  2.51425289e-01]\n",
      " [ 1.02897293e+01  4.46013413e+01]\n",
      " [ 1.42981212e+01 -4.09023577e-02]\n",
      " [ 8.15185533e+00  3.57777665e+00]\n",
      " [ 9.95757266e+00  1.51405259e+01]]\n",
      "Testing for K: 6\n",
      "[[ 8.70210873  1.61221715]\n",
      " [ 8.57678758  6.23931749]\n",
      " [10.15572438  0.67333094]\n",
      " [10.39249473 46.9575265 ]\n",
      " [15.14702195  1.35290644]\n",
      " [10.350388   19.02948392]]\n",
      "Testing for K: 7\n",
      "[[11.54173262 69.35042885]\n",
      " [15.00624323  1.3060189 ]\n",
      " [ 9.04245872 16.06136938]\n",
      " [ 9.84055733  4.54556018]\n",
      " [ 8.92157856  1.45667602]\n",
      " [11.0184824  -0.35866792]\n",
      " [ 8.32545832  2.07371915]]\n",
      "Testing for K: 8\n",
      "[[11.67816726 -1.75369312]\n",
      " [ 8.29920973 12.45649595]\n",
      " [ 9.54968774  3.97292159]\n",
      " [11.53027796 69.0102096 ]\n",
      " [ 9.01497747  1.62243958]\n",
      " [ 8.71085691  1.84115603]\n",
      " [10.00134438 11.39943745]\n",
      " [14.98543151  1.22811597]]\n"
     ]
    }
   ],
   "source": [
    "p_class_given_data_lst = []\n",
    "means_lst = []\n",
    "covars_lst = []\n",
    "p_class_lst = []\n",
    "mean_dist_lst = []\n",
    "\n",
    "\n",
    "for i in range(1,9):\n",
    "    print(\"Testing for K: \" + str(i))\n",
    "    p_class_given_data, means, covars, p_class = GMM(df, i)\n",
    "    print(means)\n",
    "    p_class_given_data_lst.append(p_class_given_data)\n",
    "    means_lst.append(means)\n",
    "    covars_lst.append(covars)\n",
    "    p_class_lst.append(p_class)\n"
   ]
  },
  {
   "cell_type": "code",
   "execution_count": 245,
   "metadata": {},
   "outputs": [],
   "source": [
    "k_num = -1"
   ]
  },
  {
   "cell_type": "code",
   "execution_count": 246,
   "metadata": {},
   "outputs": [],
   "source": [
    "\n",
    "dict_pts = {}\n",
    "for idx,data in enumerate(p_class_given_data_lst[k_num]):\n",
    "    lst = list(data)\n",
    "    max_value = max(lst)\n",
    "    index = lst.index(max_value)\n",
    "    our_point = df.iloc[idx,:]\n",
    "    our_point_lst = list(our_point)\n",
    "    if index not in dict_pts:\n",
    "        dict_pts[index] = [our_point_lst]\n",
    "    else:\n",
    "        dict_pts[index].append(our_point_lst)"
   ]
  },
  {
   "cell_type": "code",
   "execution_count": 247,
   "metadata": {
    "scrolled": true
   },
   "outputs": [
    {
     "name": "stdout",
     "output_type": "stream",
     "text": [
      "[7.56, -0.1]\n",
      "[7.24, -6.78]\n"
     ]
    },
    {
     "data": {
      "text/plain": [
       "<matplotlib.collections.PathCollection at 0x13797ba00>"
      ]
     },
     "execution_count": 247,
     "metadata": {},
     "output_type": "execute_result"
    },
    {
     "data": {
      "image/png": "[encoded data removed]",
      "text/plain": [
       "<Figure size 432x288 with 1 Axes>"
      ]
     },
     "metadata": {
      "needs_background": "light"
     },
     "output_type": "display_data"
    }
   ],
   "source": [
    "\n",
    "for key, value in dict_pts.items():\n",
    "    x = [i[0] for i in dict_pts[key]]\n",
    "    y = [i[1] for i in dict_pts[key]]\n",
    "    plt.scatter(x,y)\n",
    "plt.scatter([i[0] for i in means_lst[k_num]], [i[1] for i in means_lst[k_num]], color=\"black\")\n",
    "print(svb_coords)\n",
    "print(sigbank_coords)\n",
    "plt.scatter(svb_coords[0], svb_coords[1], color=\"y\")\n",
    "plt.scatter(sigbank_coords[0], sigbank_coords[1], color=\"y\")"
   ]
  },
  {
   "cell_type": "code",
   "execution_count": null,
   "metadata": {},
   "outputs": [],
   "source": []
  },
  {
   "cell_type": "code",
   "execution_count": null,
   "metadata": {},
   "outputs": [],
   "source": []
  },
  {
   "cell_type": "code",
   "execution_count": null,
   "metadata": {},
   "outputs": [],
   "source": []
  },
  {
   "cell_type": "code",
   "execution_count": null,
   "metadata": {},
   "outputs": [],
   "source": []
  },
  {
   "cell_type": "code",
   "execution_count": null,
   "metadata": {},
   "outputs": [],
   "source": []
  },
  {
   "cell_type": "code",
   "execution_count": null,
   "metadata": {},
   "outputs": [],
   "source": []
  }
 ],
 "metadata": {
  "kernelspec": {
   "display_name": "Python 3 (ipykernel)",
   "language": "python",
   "name": "python3"
  },
  "language_info": {
   "codemirror_mode": {
    "name": "ipython",
    "version": 3
   },
   "file_extension": ".py",
   "mimetype": "text/x-python",
   "name": "python",
   "nbconvert_exporter": "python",
   "pygments_lexer": "ipython3",
   "version": "3.10.8"
  }
 },
 "nbformat": 4,
 "nbformat_minor": 4
}
