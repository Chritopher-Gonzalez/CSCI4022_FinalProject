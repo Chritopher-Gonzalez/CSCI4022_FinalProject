{
 "cells": [
  {
   "cell_type": "code",
   "execution_count": null,
   "id": "4f9b7117-01dd-4c00-8578-15dd78a85bb4",
   "metadata": {},
   "outputs": [],
   "source": [
    "import csv\n",
    "import requests\n",
    "from bs4 import BeautifulSoup"
   ]
  },
  {
   "cell_type": "code",
   "execution_count": null,
   "id": "673a8c25-c6a3-480c-a0df-ce3c55e2cbe2",
   "metadata": {},
   "outputs": [],
   "source": [
    "def assetScraper(name, ticker):\n",
    "    # Make a request to the page\n",
    "    url = 'https://www.wsj.com/market-data/quotes/' + ticker + '/financials/annual/balance-sheet'\n",
    "    headers = {\"User-Agent\" : \"Mozilla/5.0 (Windows NT 10.0; Win64; x64; rv:99.0) Gecko/20100101 Firefox/99.0\"}\n",
    "    response = requests.get(url=url, headers=headers)\n",
    "\n",
    "    # Parse the HTML content with BeautifulSoup\n",
    "    soup = BeautifulSoup(response.content, 'html.parser')\n",
    "    \n",
    "    # Find the table element\n",
    "    table = soup.find('table', {'class': 'cr_dataTable'})\n",
    "\n",
    "    # Extract the table headers\n",
    "    headers = [th.text.strip() for th in table.find_all('th')]\n",
    "\n",
    "    # Extract the table rows\n",
    "    rows = []\n",
    "    for tr in table.find_all('tr'):\n",
    "        row = [td.text.strip() for td in tr.find_all('td')]\n",
    "        rows.append(row)\n",
    "\n",
    "    # Remove the first row (contains column descriptions)\n",
    "    rows = rows[1:]\n",
    "\n",
    "    # Write the data to a CSV file\n",
    "    with open('assetsheets/' + name + '.csv', 'w', newline='') as csvfile:\n",
    "        writer = csv.writer(csvfile)\n",
    "        writer.writerow(headers)\n",
    "        writer.writerows(rows)\n",
    "    \n",
    "    return True"
   ]
  },
  {
   "cell_type": "code",
   "execution_count": null,
   "id": "0aecb863-547a-4b40-8d1c-c65da2ee8c49",
   "metadata": {},
   "outputs": [],
   "source": [
    "#lst of banks\n",
    "banks = []\n",
    "with open('data/Complete-List-of-US-Banks-Stocks-listed-on-NYSE-Mar-26-23.csv', newline='') as csvfile:\n",
    "    csvreader = csv.reader(csvfile, delimiter=',', quotechar='|')\n",
    "    \n",
    "    # This skips the first row of the CSV file.\n",
    "    next(csvreader)\n",
    "    \n",
    "    for row in csvreader:\n",
    "        banks.append([row[1],row[2]])"
   ]
  },
  {
   "cell_type": "code",
   "execution_count": null,
   "id": "45acdaa1-7838-4961-97d1-c490ad179b51",
   "metadata": {},
   "outputs": [],
   "source": [
    "assetScraper(ban"
   ]
  }
 ],
 "metadata": {
  "kernelspec": {
   "display_name": "Python 3 (ipykernel)",
   "language": "python",
   "name": "python3"
  },
  "language_info": {
   "codemirror_mode": {
    "name": "ipython",
    "version": 3
   },
   "file_extension": ".py",
   "mimetype": "text/x-python",
   "name": "python",
   "nbconvert_exporter": "python",
   "pygments_lexer": "ipython3",
   "version": "3.10.8"
  }
 },
 "nbformat": 4,
 "nbformat_minor": 5
}
