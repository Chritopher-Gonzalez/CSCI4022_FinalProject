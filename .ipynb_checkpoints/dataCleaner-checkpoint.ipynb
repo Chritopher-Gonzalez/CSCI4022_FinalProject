{
 "cells": [
  {
   "cell_type": "code",
   "execution_count": 1,
   "id": "deee1054-75ff-4562-b17f-2393d5007be4",
   "metadata": {},
   "outputs": [],
   "source": [
    "import os\n",
    "import csv"
   ]
  },
  {
   "cell_type": "code",
   "execution_count": 2,
   "id": "bd8af490-c28e-40dc-aea3-8e52151e7f37",
   "metadata": {},
   "outputs": [
    {
     "name": "stdout",
     "output_type": "stream",
     "text": [
      "./assets/Truist Financial Corporation .csv\n",
      "here\n"
     ]
    }
   ],
   "source": [
    "list_files = os.listdir(\"./assets\")\n",
    "num_files = len(list_files)\n",
    "list_files = list_files[0]\n",
    "\n",
    "\n",
    "for file in list_files:\n",
    "\n",
    "    file_path = \"./assets/\" + list_files\n",
    "    total_str = \"\"\n",
    "    print(file_path)\n",
    "    if (os.path.isfile(file_path)):\n",
    "        with open(file_path,encoding='utf-8') as input_file, open('cleanAssets/' + list_files , 'w', newline='') as output_file:\n",
    "            reader = csv.reader(input_file)\n",
    "            writer = csv.writer(output_file)\n",
    "            for row in reader:\n",
    "                if any(row):\n",
    "                    row = row[:6]\n",
    "                    row = [element.replace(\"-\", \"0\") for element in row]\n",
    "                    writer.writerow(row)"
   ]
  }
 ],
 "metadata": {
  "kernelspec": {
   "display_name": "Python 3 (ipykernel)",
   "language": "python",
   "name": "python3"
  },
  "language_info": {
   "codemirror_mode": {
    "name": "ipython",
    "version": 3
   },
   "file_extension": ".py",
   "mimetype": "text/x-python",
   "name": "python",
   "nbconvert_exporter": "python",
   "pygments_lexer": "ipython3",
   "version": "3.10.8"
  }
 },
 "nbformat": 4,
 "nbformat_minor": 5
}
